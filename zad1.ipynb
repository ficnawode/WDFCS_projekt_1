{
 "cells": [
  {
   "cell_type": "code",
   "execution_count": 1,
   "metadata": {},
   "outputs": [],
   "source": [
    "import pandas as pd\n",
    "import matplotlib.pyplot as plt\n",
    "import numpy as np"
   ]
  },
  {
   "cell_type": "code",
   "execution_count": 2,
   "metadata": {},
   "outputs": [
    {
     "data": {
      "text/html": [
       "<div>\n",
       "<style scoped>\n",
       "    .dataframe tbody tr th:only-of-type {\n",
       "        vertical-align: middle;\n",
       "    }\n",
       "\n",
       "    .dataframe tbody tr th {\n",
       "        vertical-align: top;\n",
       "    }\n",
       "\n",
       "    .dataframe thead th {\n",
       "        text-align: right;\n",
       "    }\n",
       "</style>\n",
       "<table border=\"1\" class=\"dataframe\">\n",
       "  <thead>\n",
       "    <tr style=\"text-align: right;\">\n",
       "      <th></th>\n",
       "      <th>r</th>\n",
       "      <th>U</th>\n",
       "    </tr>\n",
       "  </thead>\n",
       "  <tbody>\n",
       "    <tr>\n",
       "      <th>0</th>\n",
       "      <td>1.75</td>\n",
       "      <td>80.501217</td>\n",
       "    </tr>\n",
       "    <tr>\n",
       "      <th>1</th>\n",
       "      <td>1.76</td>\n",
       "      <td>74.604359</td>\n",
       "    </tr>\n",
       "    <tr>\n",
       "      <th>2</th>\n",
       "      <td>1.77</td>\n",
       "      <td>69.135185</td>\n",
       "    </tr>\n",
       "    <tr>\n",
       "      <th>3</th>\n",
       "      <td>1.78</td>\n",
       "      <td>64.061605</td>\n",
       "    </tr>\n",
       "    <tr>\n",
       "      <th>4</th>\n",
       "      <td>1.79</td>\n",
       "      <td>59.354055</td>\n",
       "    </tr>\n",
       "    <tr>\n",
       "      <th>...</th>\n",
       "      <td>...</td>\n",
       "      <td>...</td>\n",
       "    </tr>\n",
       "    <tr>\n",
       "      <th>1696</th>\n",
       "      <td>18.71</td>\n",
       "      <td>-0.000003</td>\n",
       "    </tr>\n",
       "    <tr>\n",
       "      <th>1697</th>\n",
       "      <td>18.72</td>\n",
       "      <td>-0.000003</td>\n",
       "    </tr>\n",
       "    <tr>\n",
       "      <th>1698</th>\n",
       "      <td>18.73</td>\n",
       "      <td>-0.000003</td>\n",
       "    </tr>\n",
       "    <tr>\n",
       "      <th>1699</th>\n",
       "      <td>18.74</td>\n",
       "      <td>-0.000003</td>\n",
       "    </tr>\n",
       "    <tr>\n",
       "      <th>1700</th>\n",
       "      <td>18.75</td>\n",
       "      <td>-0.000003</td>\n",
       "    </tr>\n",
       "  </tbody>\n",
       "</table>\n",
       "<p>1701 rows × 2 columns</p>\n",
       "</div>"
      ],
      "text/plain": [
       "          r          U\n",
       "0      1.75  80.501217\n",
       "1      1.76  74.604359\n",
       "2      1.77  69.135185\n",
       "3      1.78  64.061605\n",
       "4      1.79  59.354055\n",
       "...     ...        ...\n",
       "1696  18.71  -0.000003\n",
       "1697  18.72  -0.000003\n",
       "1698  18.73  -0.000003\n",
       "1699  18.74  -0.000003\n",
       "1700  18.75  -0.000003\n",
       "\n",
       "[1701 rows x 2 columns]"
      ]
     },
     "execution_count": 2,
     "metadata": {},
     "output_type": "execute_result"
    }
   ],
   "source": [
    "df = pd.read_csv('in/zad1_wch_5.txt', sep='\\t', decimal=',')\n",
    "df"
   ]
  },
  {
   "cell_type": "code",
   "execution_count": 3,
   "metadata": {},
   "outputs": [
    {
     "data": {
      "text/plain": [
       "<AxesSubplot:xlabel='r'>"
      ]
     },
     "execution_count": 3,
     "metadata": {},
     "output_type": "execute_result"
    },
    {
     "data": {
      "image/png": "[encoded data removed]",
      "text/plain": [
       "<Figure size 432x288 with 1 Axes>"
      ]
     },
     "metadata": {
      "needs_background": "light"
     },
     "output_type": "display_data"
    }
   ],
   "source": [
    "df.plot(x='r', y='U')"
   ]
  },
  {
   "cell_type": "code",
   "execution_count": 4,
   "metadata": {},
   "outputs": [
    {
     "name": "stdout",
     "output_type": "stream",
     "text": [
      "U_min = -1.31898489\n",
      "r_min = 2.52\n"
     ]
    }
   ],
   "source": [
    "U_min = df['U'].min()\n",
    "r_min = df['r'].loc[df['U'] == U_min]\n",
    "r_min = r_min.min()\n",
    "\n",
    "print(\"U_min =\", U_min)\n",
    "print(\"r_min =\", r_min)"
   ]
  },
  {
   "cell_type": "code",
   "execution_count": 15,
   "metadata": {},
   "outputs": [
    {
     "data": {
      "image/png": "[encoded data removed]",
      "text/plain": [
       "<Figure size 576x432 with 1 Axes>"
      ]
     },
     "metadata": {
      "needs_background": "light"
     },
     "output_type": "display_data"
    }
   ],
   "source": [
    "plt.figure(figsize=(8,6))\n",
    "plt.plot(df['r'], df['U'], color = 'purple')\n",
    "\n",
    "plt.xlabel(r'$r \\; [\\AA]$')\n",
    "plt.ylabel(r'$U \\; [eV]$')\n",
    "\n",
    "plt.savefig('out/wyk_U_od_r.jpg', dpi=350)\n",
    "plt.show()"
   ]
  },
  {
   "cell_type": "code",
   "execution_count": 16,
   "metadata": {},
   "outputs": [
    {
     "name": "stdout",
     "output_type": "stream",
     "text": [
      "r_min = 2.52\n",
      "U_min = -1.31898489\n"
     ]
    }
   ],
   "source": [
    "r_min = df['r'].loc[df['U'] == df['U'].min()].min()\n",
    "print('r_min =',r_min)\n",
    "print('U_min =',df['U'].min())"
   ]
  },
  {
   "cell_type": "code",
   "execution_count": 7,
   "metadata": {},
   "outputs": [
    {
     "data": {
      "text/plain": [
       "array([-24.36559395,   9.25121603,   0.03191939,  -1.32400843])"
      ]
     },
     "execution_count": 7,
     "metadata": {},
     "output_type": "execute_result"
    }
   ],
   "source": [
    "\n",
    "offset = 0.2\n",
    "r_for_fit = df['r'].iloc[np.where((df['r'] > r_min - offset) & (df['r'] < r_min + offset))] - r_min\n",
    "U_for_fit = df['U'].iloc[np.where((df['r'] > r_min - offset) & (df['r'] < r_min + offset))]\n",
    "fit = np.polyfit(x=r_for_fit, y=U_for_fit, deg=3)\n",
    "fit"
   ]
  },
  {
   "cell_type": "code",
   "execution_count": 8,
   "metadata": {},
   "outputs": [],
   "source": [
    "x_fit = r_for_fit\n",
    "y_fit = fit[0]*x_fit**3 + fit[1]*x_fit**2 + fit[2]*x_fit + fit[3]\n"
   ]
  },
  {
   "cell_type": "markdown",
   "metadata": {},
   "source": [
    "# WAŻNE\n",
    "\n",
    "opisać z czego sie biorą a i b, wykład 2 slajd 31"
   ]
  },
  {
   "cell_type": "code",
   "execution_count": 18,
   "metadata": {},
   "outputs": [
    {
     "data": {
      "image/png": "[encoded data removed]",
      "text/plain": [
       "<Figure size 576x432 with 1 Axes>"
      ]
     },
     "metadata": {
      "needs_background": "light"
     },
     "output_type": "display_data"
    },
    {
     "name": "stdout",
     "output_type": "stream",
     "text": [
      "k = 2b =  18.502432069914875 [eV/A^2] =  296.4089617600363 [N/m]\n",
      "x = -3a =  73.09678185357009 [eV/A^3] =  11710104452941.93 [N/m^2]\n"
     ]
    }
   ],
   "source": [
    "plt.figure(figsize=(8,6))\n",
    "\n",
    "df_short = df[45:200].copy()\n",
    "plt.scatter(df_short['r'], df_short['U'], color = 'purple', label='dane')\n",
    "plt.plot(x_fit + r_min, y_fit, color = 'orange', linewidth=2, label='fit')\n",
    "\n",
    "plt.xlabel(r'$r \\; [\\AA]$')\n",
    "plt.ylabel(r'$U \\; [eV]$')\n",
    "\n",
    "plt.legend()\n",
    "\n",
    "plt.savefig('out/wyk_U_od_r_fit.jpg', dpi=350)\n",
    "plt.show()\n",
    "\n",
    "\n",
    "print('k = 2b = ', 2*fit[1], '[eV/A^2] = ', 2*fit[1]*1.602*1e-19/1e-20, '[N/m]')\n",
    "print('x = -3a = ', -3*fit[0], '[eV/A^3] = ', -3*fit[0]*1.602*1e-19/1e-30, '[N/m^2]')"
   ]
  },
  {
   "cell_type": "code",
   "execution_count": null,
   "metadata": {},
   "outputs": [],
   "source": []
  }
 ],
 "metadata": {
  "kernelspec": {
   "display_name": "dataconda",
   "language": "python",
   "name": "python3"
  },
  "language_info": {
   "codemirror_mode": {
    "name": "ipython",
    "version": 3
   },
   "file_extension": ".py",
   "mimetype": "text/x-python",
   "name": "python",
   "nbconvert_exporter": "python",
   "pygments_lexer": "ipython3",
   "version": "3.10.4"
  },
  "orig_nbformat": 4,
  "vscode": {
   "interpreter": {
    "hash": "06d5f6a7192f7da15f00af0bef5004458982aa75eb1affdf296843002ced5906"
   }
  }
 },
 "nbformat": 4,
 "nbformat_minor": 2
}
